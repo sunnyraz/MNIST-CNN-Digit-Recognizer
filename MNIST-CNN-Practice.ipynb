{
  "cells": [
    {
      "cell_type": "markdown",
      "metadata": {
        "id": "fyru6jGo2SGM"
      },
      "source": [
        "# Convolutiona neural network, MNIST\n",
        "---\n",
        "In this notebook, we will train an CNN to classify images from the [MNIST database](http://yann.lecun.com/exdb/mnist/) hand-written digit database.\n",
        "\n",
        "The process will be broken down into the following steps:\n",
        ">1. Load and visualize the data\n",
        "2. Define a neural network\n",
        "3. Train the model\n",
        "4. Evaluate the performance of our trained model on a test dataset!\n",
        "\n",
        "Before we begin, we have to import the necessary libraries for working with data and PyTorch, as well as a few more for convenience."
      ]
    },
    {
      "cell_type": "code",
      "execution_count": null,
      "metadata": {
        "id": "z3KpKDKz2SGQ"
      },
      "outputs": [],
      "source": [
        "# !pip install -q -r requirements.txt &> /dev/null\n",
        "\n",
        "# # opencv-python-headless==4.5.3.56\n",
        "# # matplotlib==3.4.3\n",
        "# # numpy==1.21.2\n",
        "# # pillow==7.0.0\n",
        "# # bokeh==2.1.1\n",
        "# # torch==1.11.0\n",
        "# # torchvision==0.12.0\n",
        "# # tqdm==4.63.0\n",
        "# # ipywidgets==7.6.5\n",
        "# # livelossplot==0.5.4\n",
        "# # pytest==7.1.1\n",
        "# # pandas==1.3.5\n",
        "# # seaborn==0.11.2\n"
      ]
    },
    {
      "cell_type": "markdown",
      "metadata": {
        "id": "e1Lwmdgd2SGS"
      },
      "source": [
        "> Now please RESTART THE KERNEL IN YOUR NOTEBOOK then continue execution with the next cell."
      ]
    },
    {
      "cell_type": "code",
      "execution_count": null,
      "metadata": {
        "id": "PlA54xNN2SGS"
      },
      "outputs": [],
      "source": [
        "# import libraries\n",
        "import torch\n",
        "import numpy as np\n",
        "# Progress bar\n",
        "from tqdm import tqdm\n",
        "# Will use this to figure out the number of CPUs available\n",
        "import multiprocessing"
      ]
    },
    {
      "cell_type": "markdown",
      "metadata": {
        "id": "SyL_ToCp2SGT"
      },
      "source": [
        "---\n",
        "## Load and Visualize the [Data](http://pytorch.org/docs/stable/torchvision/datasets.html)\n",
        "\n",
        "Downloading may take a few moments, and you should see your progress as the data is loading. You may also choose to change the `batch_size` if you want to load more data at a time.\n",
        "\n",
        "This cell will create DataLoaders for each of our datasets."
      ]
    },
    {
      "cell_type": "code",
      "execution_count": null,
      "metadata": {
        "id": "ryhEq_GH2SGU"
      },
      "outputs": [],
      "source": [
        "# The MNIST datasets are hosted on yann.lecun.com that has moved under CloudFlare protection\n",
        "# Run this script to enable the datasets download\n",
        "# Reference: https://github.com/pytorch/vision/issues/1938\n",
        "\n",
        "from six.moves import urllib\n",
        "opener = urllib.request.build_opener()\n",
        "opener.addheaders = [('User-agent', 'Mozilla/5.0')]\n",
        "urllib.request.install_opener(opener)"
      ]
    },
    {
      "cell_type": "markdown",
      "metadata": {
        "id": "CrevrY9z2SGU"
      },
      "source": [
        "NOTE: when executing the following cell you will see a warning `The given NumPy array is not writeable ...`. Please ignore the warning, is due to a little bug in pytorch 1.9.0 that is harmless."
      ]
    },
    {
      "cell_type": "code",
      "execution_count": null,
      "metadata": {
        "colab": {
          "base_uri": "https://localhost:8080/"
        },
        "id": "pRzyOaJ62SGV",
        "outputId": "dbca91d6-b8a9-4a50-fdfc-aa9e1299b4d4"
      },
      "outputs": [
        {
          "output_type": "stream",
          "name": "stdout",
          "text": [
            "Using 48000 examples for training and 12000 for validation\n",
            "Using 10000 for testing\n"
          ]
        }
      ],
      "source": [
        "from torchvision import datasets\n",
        "import torchvision.transforms as transforms\n",
        "\n",
        "# number of subprocesses to use for data loading\n",
        "# We set this equal to the number of CPUs available\n",
        "# in this machine\n",
        "num_workers = multiprocessing.cpu_count()\n",
        "\n",
        "# how many samples per batch to load. You can experiment\n",
        "# with this parameter to try to improve performances\n",
        "batch_size = 64\n",
        "\n",
        "# The output of torchvision datasets are PILImage images of range [0, 1].\n",
        "# We transform them to Tensors of normalized range [-1, 1]\n",
        "transform = transforms.Compose(\n",
        "    [\n",
        "        # This transforms takes a np.array or a PIL image of integers\n",
        "        # in the range 0-255 and transforms it to a float tensor in the\n",
        "        # range 0.0 - 1.0\n",
        "        transforms.ToTensor(),\n",
        "        # This then renormalize the tensor to be between -1.0 and 1.0,\n",
        "        # which is a better range for modern activation functions like\n",
        "        # Relu\n",
        "        transforms.Normalize((0.5), (0.5)),\n",
        "    ]\n",
        ")\n",
        "\n",
        "\n",
        "# Get train, validation and test\n",
        "\n",
        "# Let's start with train and validation\n",
        "trainval_data = datasets.MNIST(\n",
        "    root=\"data\", train=True, download=True, transform=transform\n",
        ")\n",
        "\n",
        "# Split in train and validation\n",
        "# NOTE: we set the generator with a fixed random seed for reproducibility\n",
        "train_len = int(len(trainval_data) * 0.8)\n",
        "val_len = len(trainval_data) - train_len\n",
        "print(f\"Using {train_len} examples for training and {val_len} for validation\")\n",
        "train_subset, val_subset = torch.utils.data.random_split(\n",
        "    trainval_data, [train_len, val_len], generator=torch.Generator().manual_seed(42)\n",
        ")\n",
        "\n",
        "train_loader = torch.utils.data.DataLoader(\n",
        "    dataset=train_subset, shuffle=True, batch_size=batch_size, num_workers=num_workers\n",
        ")\n",
        "val_loader = torch.utils.data.DataLoader(\n",
        "    dataset=val_subset, shuffle=False, batch_size=batch_size, num_workers=num_workers\n",
        ")\n",
        "\n",
        "# Get test data\n",
        "test_data = datasets.MNIST(root=\"data\", train=False, download=True, transform=transform)\n",
        "test_loader = torch.utils.data.DataLoader(\n",
        "    test_data, batch_size=batch_size, num_workers=num_workers\n",
        ")\n",
        "print(f\"Using {len(test_data)} for testing\")"
      ]
    },
    {
      "cell_type": "markdown",
      "metadata": {
        "id": "ijfHKC7e2SGW"
      },
      "source": [
        "### Visualize a Batch of Training Data\n",
        "\n",
        "The first step in a classification task is to take a look at the data, make sure it is loaded in correctly, then make any initial observations about patterns in that data."
      ]
    },
    {
      "cell_type": "code",
      "execution_count": null,
      "metadata": {
        "colab": {
          "base_uri": "https://localhost:8080/",
          "height": 226
        },
        "id": "C_2Ae7fq2SGX",
        "outputId": "6f017056-425e-4e24-aec3-84656592c8d3"
      },
      "outputs": [
        {
          "output_type": "display_data",
          "data": {
            "text/plain": [
              "<Figure size 2500x400 with 20 Axes>"
            ],
            "image/png": "[encoded data removed]"
          },
          "metadata": {}
        }
      ],
      "source": [
        "import matplotlib.pyplot as plt\n",
        "%matplotlib inline\n",
        "\n",
        "# obtain one batch of training images\n",
        "dataiter = iter(train_loader)\n",
        "images, labels = next(dataiter)\n",
        "images = images.numpy()\n",
        "\n",
        "# plot the images in the batch, along with the corresponding labels\n",
        "fig, subs = plt.subplots(2, 10, figsize=(25, 4))\n",
        "for idx, sub in zip(np.arange(20), subs.flatten()):\n",
        "    sub.imshow(np.squeeze(images[idx]), cmap='gray')\n",
        "    # print out the correct label for each image\n",
        "    # .item() gets the value contained in a Tensor\n",
        "    sub.set_title(str(labels[idx].item()))\n",
        "    sub.axis(\"off\")"
      ]
    },
    {
      "cell_type": "markdown",
      "metadata": {
        "id": "MKxVK6j52SGY"
      },
      "source": [
        "### View an Image in More Detail"
      ]
    },
    {
      "cell_type": "code",
      "execution_count": null,
      "metadata": {
        "colab": {
          "base_uri": "https://localhost:8080/",
          "height": 961
        },
        "id": "q0pGz8mA2SGY",
        "outputId": "4691cca8-77ae-4bec-d418-d0708690a978"
      },
      "outputs": [
        {
          "output_type": "display_data",
          "data": {
            "text/plain": [
              "<Figure size 1200x1200 with 1 Axes>"
            ],
            "image/png": "[encoded data removed]"
          },
          "metadata": {}
        }
      ],
      "source": [
        "img = np.squeeze(images[1])\n",
        "\n",
        "fig, sub = plt.subplots(figsize = (12,12))\n",
        "sub.imshow(img, cmap='gray')\n",
        "width, height = img.shape\n",
        "thresh = img.max()/2.5\n",
        "for x in range(width):\n",
        "    for y in range(height):\n",
        "        val = round(img[x][y],2) if img[x][y] !=0 else 0\n",
        "        sub.annotate(str(val), xy=(y,x),\n",
        "                    horizontalalignment='center',\n",
        "                    verticalalignment='center',\n",
        "                    color='white' if img[x][y]<thresh else 'black')\n",
        "        sub.axis(\"off\")"
      ]
    },
    {
      "cell_type": "markdown",
      "metadata": {
        "id": "46EzRATQ2SGZ"
      },
      "source": [
        "---\n",
        "## Define the Network [Architecture](http://pytorch.org/docs/stable/nn.html)\n",
        "\n",
        "The architecture will be responsible for seeing as input a 784-dim Tensor of pixel values for each image, and producing a Tensor of length 10 (our number of classes) that indicates the class scores for an input image. This particular example uses two hidden layers and dropout to avoid overfitting."
      ]
    },
    {
      "cell_type": "code",
      "execution_count": null,
      "metadata": {
        "colab": {
          "base_uri": "https://localhost:8080/"
        },
        "id": "jHpHoqsx2SGZ",
        "outputId": "9d1db51a-7d6e-4b8b-8fe9-7235484b1115"
      },
      "outputs": [
        {
          "output_type": "stream",
          "name": "stdout",
          "text": [
            "Net(\n",
            "  (model): Sequential(\n",
            "    (0): Conv2d(1, 28, kernel_size=(3, 3), stride=(1, 1), padding=(1, 1))\n",
            "    (1): ReLU()\n",
            "    (2): MaxPool2d(kernel_size=2, stride=2, padding=0, dilation=1, ceil_mode=False)\n",
            "    (3): Conv2d(28, 64, kernel_size=(3, 3), stride=(1, 1), padding=(1, 1))\n",
            "    (4): ReLU()\n",
            "    (5): MaxPool2d(kernel_size=2, stride=2, padding=0, dilation=1, ceil_mode=False)\n",
            "    (6): Flatten(start_dim=1, end_dim=-1)\n",
            "    (7): Linear(in_features=3136, out_features=128, bias=True)\n",
            "    (8): ReLU()\n",
            "    (9): Linear(in_features=128, out_features=10, bias=True)\n",
            "  )\n",
            ")\n"
          ]
        }
      ],
      "source": [
        "import torch.nn as nn\n",
        "import torch.nn.functional as F\n",
        "\n",
        "## TODO: Define the NN architecture\n",
        "class Net(nn.Module):\n",
        "    def __init__(self):\n",
        "        super(Net, self).__init__()\n",
        "        self.model = nn.Sequential(\n",
        "                nn.Conv2d(1, 28, kernel_size=3, padding=1),\n",
        "                nn.ReLU(),\n",
        "                nn.MaxPool2d(kernel_size=2, stride=2),\n",
        "                nn.Conv2d(28, 64, kernel_size=3, padding=1),\n",
        "                nn.ReLU(),\n",
        "                nn.MaxPool2d(kernel_size=2, stride=2),\n",
        "                nn.Flatten(),\n",
        "                nn.Linear(64 * 7 * 7, 128),\n",
        "                nn.ReLU(),\n",
        "                nn.Linear(128, 10)\n",
        "            )\n",
        "\n",
        "    def forward(self, x):\n",
        "        # flatten image input\n",
        "        x = self.model(x)\n",
        "        return x\n",
        "\n",
        "\n",
        "# initialize the NN\n",
        "model = Net()\n",
        "\n",
        "# NOTE: this is NOT the structure of the network, but merely a\n",
        "# visualization of the layers that are present. For very simple\n",
        "# architectures the two might be similar, but for more complicated\n",
        "# network they will not. See the next cell for a possible way of\n",
        "# visualizing the real structure of the network\n",
        "print(model)"
      ]
    },
    {
      "cell_type": "markdown",
      "metadata": {
        "id": "xUmLPStD2SGa"
      },
      "source": [
        "## (Bonus: visualize the structure of your network)\n",
        "You can visualize your achitecture by using netron.app. Just execute the following cell (which will save the network to a file called \"mnist_network.pt\" in this directory), then download the produced `mnist_network.pt` to your computer. Finally, go to [Netron.app](https://netron.app) and click on `Open Model`, and select the file you just downloaded."
      ]
    },
    {
      "cell_type": "code",
      "execution_count": null,
      "metadata": {
        "id": "NsiE--Kg2SGa"
      },
      "outputs": [],
      "source": [
        "scripted = torch.jit.script(model)\n",
        "torch.jit.save(scripted, \"mnist_network.pt\")"
      ]
    },
    {
      "cell_type": "markdown",
      "metadata": {
        "id": "8TcfrE0j2SGb"
      },
      "source": [
        "###  Specify [Loss Function](http://pytorch.org/docs/stable/nn.html#loss-functions) and [Optimizer](http://pytorch.org/docs/stable/optim.html)\n",
        "\n",
        "It's recommended that you use cross-entropy loss for classification. If you look at the documentation (linked above), you can see that PyTorch's cross entropy function applies a softmax function to the output layer *and* then calculates the log loss."
      ]
    },
    {
      "cell_type": "code",
      "execution_count": null,
      "metadata": {
        "id": "oqbFR4-92SGb"
      },
      "outputs": [],
      "source": [
        "## TODO: Specify loss and optimization functions\n",
        "\n",
        "# specify loss function\n",
        "criterion = nn.CrossEntropyLoss()\n",
        "\n",
        "# specify optimizer\n",
        "optimizer = torch.optim.SGD(model.parameters(), lr=0.01)"
      ]
    },
    {
      "cell_type": "markdown",
      "metadata": {
        "id": "DUy90nn12SGb"
      },
      "source": [
        "---\n",
        "## Train the Network\n",
        "\n",
        "The steps for training/learning from a batch of data are described in the comments below:\n",
        "1. Clear the gradients of all optimized variables\n",
        "2. Forward pass: compute predicted outputs by passing inputs to the model\n",
        "3. Calculate the loss\n",
        "4. Backward pass: compute gradient of the loss with respect to model parameters\n",
        "5. Perform a single optimization step (parameter update)\n",
        "6. Update average training loss\n",
        "\n",
        "The following loop trains for 30 epochs; feel free to change this number. For now, we suggest somewhere between 20-50 epochs. As you train, take a look at how the values for the training loss decrease over time. We want it to decrease while also avoiding overfitting the training data."
      ]
    },
    {
      "cell_type": "code",
      "execution_count": null,
      "metadata": {
        "colab": {
          "base_uri": "https://localhost:8080/"
        },
        "id": "TAXBudnW2SGb",
        "outputId": "9f64a002-2a80-4ba6-9ddc-ebd6d887a178"
      },
      "outputs": [
        {
          "output_type": "stream",
          "name": "stderr",
          "text": [
            "Training: 100%|███████████████████████████████| 750/750 [00:44<00:00, 16.85it/s]\n",
            "Validating: 100%|█████████████████████████████| 188/188 [00:06<00:00, 27.03it/s]"
          ]
        },
        {
          "output_type": "stream",
          "name": "stdout",
          "text": [
            "Epoch 1: training loss 1.04248, valid loss 0.31897\n"
          ]
        },
        {
          "output_type": "stream",
          "name": "stderr",
          "text": [
            "\n",
            "Training: 100%|███████████████████████████████| 750/750 [00:42<00:00, 17.76it/s]\n",
            "Validating: 100%|█████████████████████████████| 188/188 [00:05<00:00, 34.44it/s]"
          ]
        },
        {
          "output_type": "stream",
          "name": "stdout",
          "text": [
            "Epoch 2: training loss 0.22064, valid loss 0.17974\n"
          ]
        },
        {
          "output_type": "stream",
          "name": "stderr",
          "text": [
            "\n",
            "Training: 100%|███████████████████████████████| 750/750 [00:42<00:00, 17.84it/s]\n",
            "Validating: 100%|█████████████████████████████| 188/188 [00:06<00:00, 29.29it/s]"
          ]
        },
        {
          "output_type": "stream",
          "name": "stdout",
          "text": [
            "Epoch 3: training loss 0.14275, valid loss 0.13371\n"
          ]
        },
        {
          "output_type": "stream",
          "name": "stderr",
          "text": [
            "\n",
            "Training: 100%|███████████████████████████████| 750/750 [00:41<00:00, 17.99it/s]\n",
            "Validating: 100%|█████████████████████████████| 188/188 [00:05<00:00, 33.25it/s]"
          ]
        },
        {
          "output_type": "stream",
          "name": "stdout",
          "text": [
            "Epoch 4: training loss 0.10877, valid loss 0.10550\n"
          ]
        },
        {
          "output_type": "stream",
          "name": "stderr",
          "text": [
            "\n",
            "Training: 100%|███████████████████████████████| 750/750 [00:42<00:00, 17.66it/s]\n",
            "Validating: 100%|█████████████████████████████| 188/188 [00:05<00:00, 31.68it/s]"
          ]
        },
        {
          "output_type": "stream",
          "name": "stdout",
          "text": [
            "Epoch 5: training loss 0.09038, valid loss 0.08975\n"
          ]
        },
        {
          "output_type": "stream",
          "name": "stderr",
          "text": [
            "\n",
            "Training: 100%|███████████████████████████████| 750/750 [00:43<00:00, 17.37it/s]\n",
            "Validating: 100%|█████████████████████████████| 188/188 [00:06<00:00, 29.07it/s]"
          ]
        },
        {
          "output_type": "stream",
          "name": "stdout",
          "text": [
            "Epoch 6: training loss 0.07773, valid loss 0.08212\n"
          ]
        },
        {
          "output_type": "stream",
          "name": "stderr",
          "text": [
            "\n",
            "Training: 100%|███████████████████████████████| 750/750 [00:41<00:00, 17.88it/s]\n",
            "Validating: 100%|█████████████████████████████| 188/188 [00:05<00:00, 34.39it/s]"
          ]
        },
        {
          "output_type": "stream",
          "name": "stdout",
          "text": [
            "Epoch 7: training loss 0.07007, valid loss 0.07375\n"
          ]
        },
        {
          "output_type": "stream",
          "name": "stderr",
          "text": [
            "\n",
            "Training: 100%|███████████████████████████████| 750/750 [00:42<00:00, 17.82it/s]\n",
            "Validating: 100%|█████████████████████████████| 188/188 [00:06<00:00, 28.36it/s]"
          ]
        },
        {
          "output_type": "stream",
          "name": "stdout",
          "text": [
            "Epoch 8: training loss 0.06331, valid loss 0.06794\n"
          ]
        },
        {
          "output_type": "stream",
          "name": "stderr",
          "text": [
            "\n",
            "Training: 100%|███████████████████████████████| 750/750 [00:41<00:00, 18.24it/s]\n",
            "Validating: 100%|█████████████████████████████| 188/188 [00:05<00:00, 34.05it/s]"
          ]
        },
        {
          "output_type": "stream",
          "name": "stdout",
          "text": [
            "Epoch 9: training loss 0.05788, valid loss 0.06321\n"
          ]
        },
        {
          "output_type": "stream",
          "name": "stderr",
          "text": [
            "\n",
            "Training: 100%|███████████████████████████████| 750/750 [00:41<00:00, 18.11it/s]\n",
            "Validating: 100%|█████████████████████████████| 188/188 [00:06<00:00, 30.22it/s]"
          ]
        },
        {
          "output_type": "stream",
          "name": "stdout",
          "text": [
            "Epoch 10: training loss 0.05346, valid loss 0.06195\n"
          ]
        },
        {
          "output_type": "stream",
          "name": "stderr",
          "text": [
            "\n",
            "Training: 100%|███████████████████████████████| 750/750 [00:41<00:00, 18.07it/s]\n",
            "Validating: 100%|█████████████████████████████| 188/188 [00:05<00:00, 33.96it/s]"
          ]
        },
        {
          "output_type": "stream",
          "name": "stdout",
          "text": [
            "Epoch 11: training loss 0.05033, valid loss 0.05643\n"
          ]
        },
        {
          "output_type": "stream",
          "name": "stderr",
          "text": [
            "\n",
            "Training: 100%|███████████████████████████████| 750/750 [00:42<00:00, 17.49it/s]\n",
            "Validating: 100%|█████████████████████████████| 188/188 [00:06<00:00, 27.92it/s]"
          ]
        },
        {
          "output_type": "stream",
          "name": "stdout",
          "text": [
            "Epoch 12: training loss 0.04696, valid loss 0.06031\n"
          ]
        },
        {
          "output_type": "stream",
          "name": "stderr",
          "text": [
            "\n",
            "Training: 100%|███████████████████████████████| 750/750 [00:40<00:00, 18.31it/s]\n",
            "Validating: 100%|█████████████████████████████| 188/188 [00:05<00:00, 34.40it/s]"
          ]
        },
        {
          "output_type": "stream",
          "name": "stdout",
          "text": [
            "Epoch 13: training loss 0.04389, valid loss 0.05357\n"
          ]
        },
        {
          "output_type": "stream",
          "name": "stderr",
          "text": [
            "\n",
            "Training: 100%|███████████████████████████████| 750/750 [00:41<00:00, 17.91it/s]\n",
            "Validating: 100%|█████████████████████████████| 188/188 [00:06<00:00, 26.88it/s]"
          ]
        },
        {
          "output_type": "stream",
          "name": "stdout",
          "text": [
            "Epoch 14: training loss 0.04171, valid loss 0.05425\n"
          ]
        },
        {
          "output_type": "stream",
          "name": "stderr",
          "text": [
            "\n",
            "Training: 100%|███████████████████████████████| 750/750 [00:42<00:00, 17.77it/s]\n",
            "Validating: 100%|█████████████████████████████| 188/188 [00:05<00:00, 34.41it/s]"
          ]
        },
        {
          "output_type": "stream",
          "name": "stdout",
          "text": [
            "Epoch 15: training loss 0.03962, valid loss 0.04918\n"
          ]
        },
        {
          "output_type": "stream",
          "name": "stderr",
          "text": [
            "\n",
            "Training: 100%|███████████████████████████████| 750/750 [00:41<00:00, 17.99it/s]\n",
            "Validating: 100%|█████████████████████████████| 188/188 [00:06<00:00, 27.99it/s]"
          ]
        },
        {
          "output_type": "stream",
          "name": "stdout",
          "text": [
            "Epoch 16: training loss 0.03725, valid loss 0.05135\n"
          ]
        },
        {
          "output_type": "stream",
          "name": "stderr",
          "text": [
            "\n",
            "Training: 100%|███████████████████████████████| 750/750 [00:41<00:00, 18.24it/s]\n",
            "Validating: 100%|█████████████████████████████| 188/188 [00:06<00:00, 27.56it/s]"
          ]
        },
        {
          "output_type": "stream",
          "name": "stdout",
          "text": [
            "Epoch 17: training loss 0.03551, valid loss 0.04528\n"
          ]
        },
        {
          "output_type": "stream",
          "name": "stderr",
          "text": [
            "\n",
            "Training: 100%|███████████████████████████████| 750/750 [00:41<00:00, 18.03it/s]\n",
            "Validating: 100%|█████████████████████████████| 188/188 [00:06<00:00, 27.03it/s]"
          ]
        },
        {
          "output_type": "stream",
          "name": "stdout",
          "text": [
            "Epoch 18: training loss 0.03361, valid loss 0.05124\n"
          ]
        },
        {
          "output_type": "stream",
          "name": "stderr",
          "text": [
            "\n",
            "Training: 100%|███████████████████████████████| 750/750 [00:41<00:00, 18.18it/s]\n",
            "Validating: 100%|█████████████████████████████| 188/188 [00:05<00:00, 35.07it/s]"
          ]
        },
        {
          "output_type": "stream",
          "name": "stdout",
          "text": [
            "Epoch 19: training loss 0.03211, valid loss 0.04339\n"
          ]
        },
        {
          "output_type": "stream",
          "name": "stderr",
          "text": [
            "\n",
            "Training: 100%|███████████████████████████████| 750/750 [00:41<00:00, 18.28it/s]\n",
            "Validating: 100%|█████████████████████████████| 188/188 [00:06<00:00, 27.13it/s]"
          ]
        },
        {
          "output_type": "stream",
          "name": "stdout",
          "text": [
            "Epoch 20: training loss 0.03070, valid loss 0.04387\n"
          ]
        },
        {
          "output_type": "stream",
          "name": "stderr",
          "text": [
            "\n"
          ]
        }
      ],
      "source": [
        "# number of epochs to train the model\n",
        "n_epochs = 20  # suggest training between 20-50 epochs\n",
        "\n",
        "for epoch in range(n_epochs):\n",
        "    # monitor training loss\n",
        "    train_loss = 0.0\n",
        "\n",
        "    ###################\n",
        "    # train the model #\n",
        "    ###################\n",
        "\n",
        "    model.train() # prep model for training\n",
        "\n",
        "    for batch_idx, (data, target) in tqdm(\n",
        "            enumerate(train_loader),\n",
        "            desc=\"Training\",\n",
        "            total=len(train_loader),\n",
        "            leave=True,\n",
        "            ncols=80,\n",
        "        ):\n",
        "        # clear the gradients of all optimized variables\n",
        "        optimizer.zero_grad()\n",
        "        # forward pass: compute predicted outputs by passing inputs to the model\n",
        "        output = model(data)\n",
        "        # calculate the loss\n",
        "        loss = criterion(output, target)\n",
        "        # backward pass: compute gradient of the loss with respect to model parameters\n",
        "        loss.backward()\n",
        "        # perform a single optimization step (parameter update)\n",
        "        optimizer.step()\n",
        "        # update running training loss\n",
        "        train_loss += loss.item()*data.size(0)\n",
        "\n",
        "    # print training statistics\n",
        "    # calculate average loss over an epoch\n",
        "    train_loss = train_loss/len(train_loader.dataset)\n",
        "\n",
        "    # Validate\n",
        "    with torch.no_grad():\n",
        "\n",
        "        # set the model to evaluation mode\n",
        "        model.eval()\n",
        "\n",
        "        valid_loss = 0.0\n",
        "        for batch_idx, (data, target) in tqdm(\n",
        "            enumerate(val_loader),\n",
        "            desc=\"Validating\",\n",
        "            total=len(val_loader),\n",
        "            leave=True,\n",
        "            ncols=80,\n",
        "        ):\n",
        "\n",
        "            # 1. forward pass: compute predicted outputs by passing inputs to the model\n",
        "            output = model(data)  # =\n",
        "            # 2. calculate the loss\n",
        "            loss_value = criterion(output, target)  # =\n",
        "\n",
        "            # Calculate average validation loss\n",
        "            valid_loss = valid_loss + (\n",
        "                (1 / (batch_idx + 1)) * (loss_value.data.item() - valid_loss)\n",
        "            )\n",
        "\n",
        "    print(f\"Epoch {epoch+1}: training loss {train_loss:.5f}, valid loss {valid_loss:.5f}\")"
      ]
    },
    {
      "cell_type": "markdown",
      "metadata": {
        "id": "0SKl0uV02SGc"
      },
      "source": [
        "---\n",
        "## Test the Trained Network\n",
        "\n",
        "Finally, we test our best model on previously unseen **test data** and evaluate it's performance. Testing on unseen data is a good way to check that our model generalizes well. It may also be useful to be granular in this analysis and take a look at how this model performs on each class as well as looking at its overall loss and accuracy.\n",
        "\n",
        "#### `model.eval()`\n",
        "\n",
        "`model.eval(`) will set all the layers in your model to evaluation mode. This affects layers like dropout layers that turn \"off\" nodes during training with some probability, but should allow every node to be \"on\" for evaluation!"
      ]
    },
    {
      "cell_type": "code",
      "execution_count": null,
      "metadata": {
        "colab": {
          "base_uri": "https://localhost:8080/"
        },
        "id": "b4Rhit5J2SGd",
        "outputId": "5d55920f-65b9-4f55-b38a-e2fa600e563f"
      },
      "outputs": [
        {
          "output_type": "stream",
          "name": "stderr",
          "text": [
            "Testing: 100%|████████████████████████████████| 157/157 [00:04<00:00, 32.15it/s]"
          ]
        },
        {
          "output_type": "stream",
          "name": "stdout",
          "text": [
            "Test Loss: 0.036164\n",
            "\n",
            "Test Accuracy of 0: 99.49%% (975/980)\n",
            "Test Accuracy of 1: 99.91%% (1134/1135)\n",
            "Test Accuracy of 2: 98.64%% (1018/1032)\n",
            "Test Accuracy of 3: 99.21%% (1002/1010)\n",
            "Test Accuracy of 4: 99.39%% (976/982)\n",
            "Test Accuracy of 5: 98.88%% (882/892)\n",
            "Test Accuracy of 6: 98.02%% (939/958)\n",
            "Test Accuracy of 7: 99.12%% (1019/1028)\n",
            "Test Accuracy of 8: 98.36%% (958/974)\n",
            "Test Accuracy of 9: 96.53%% (974/1009)\n",
            "\n",
            "Test Accuracy (Overall): 98.77%% (9877/10000)\n"
          ]
        },
        {
          "output_type": "stream",
          "name": "stderr",
          "text": [
            "\n"
          ]
        }
      ],
      "source": [
        "# initialize lists to monitor test loss and accuracy\n",
        "test_loss = 0.0\n",
        "class_correct = list(0.0 for i in range(10))\n",
        "class_total = list(0.0 for i in range(10))\n",
        "\n",
        "model.eval()  # prep model for *evaluation*\n",
        "\n",
        "for batch_idx, (data, target) in tqdm(\n",
        "    enumerate(test_loader),\n",
        "    desc=\"Testing\",\n",
        "    total=len(test_loader),\n",
        "    leave=True,\n",
        "    ncols=80,\n",
        "):\n",
        "    # forward pass: compute predicted outputs by passing inputs to the model\n",
        "    output = model(data)\n",
        "    # calculate the loss\n",
        "    loss = criterion(output, target)\n",
        "    # update test loss\n",
        "    test_loss += loss.item() * data.size(0)\n",
        "    # convert output probabilities to predicted class\n",
        "    _, pred = torch.max(output, 1)\n",
        "    # compare predictions to true label\n",
        "    correct = np.squeeze(pred.eq(target.data.view_as(pred)))\n",
        "    # calculate test accuracy for each object class\n",
        "    for i in range(data.shape[0]):\n",
        "        label = target.data[i]\n",
        "        class_correct[label] += correct[i].item()\n",
        "        class_total[label] += 1\n",
        "\n",
        "# calculate and print avg test loss\n",
        "test_loss = test_loss / len(test_loader.dataset)\n",
        "print(f\"Test Loss: {test_loss:.6f}\\n\")\n",
        "\n",
        "for i in range(10):\n",
        "    if class_total[i] > 0:\n",
        "        print(\n",
        "            f\"Test Accuracy of {i}: {100 * class_correct[i] / class_total[i]:.2f}%% \"\n",
        "            f\"({int(np.sum(class_correct[i]))}/{int(np.sum(class_total[i]))})\"\n",
        "        )\n",
        "    else:\n",
        "        print(f\"Test Accuracy of {classes[i]}: N/A (no training examples)\")\n",
        "\n",
        "print(\n",
        "    f\"\\nTest Accuracy (Overall): {100.0 * np.sum(class_correct) / np.sum(class_total)}%% \"\n",
        "    f\"({int(np.sum(class_correct))}/{int(np.sum(class_total))})\"\n",
        ")"
      ]
    },
    {
      "cell_type": "markdown",
      "metadata": {
        "id": "rNh12S5n2SGd"
      },
      "source": [
        "### Visualize Sample Test Results\n",
        "\n",
        "This cell displays test images and their labels in this format: `predicted (ground-truth)`. The text will be green for accurately classified examples and red for incorrect predictions."
      ]
    },
    {
      "cell_type": "code",
      "execution_count": null,
      "metadata": {
        "colab": {
          "base_uri": "https://localhost:8080/",
          "height": 226
        },
        "id": "1tHpcLYo2SGe",
        "outputId": "177965ed-5794-488f-db1f-6a944693d4fa"
      },
      "outputs": [
        {
          "output_type": "display_data",
          "data": {
            "text/plain": [
              "<Figure size 2500x400 with 20 Axes>"
            ],
            "image/png": "[encoded data removed]"
          },
          "metadata": {}
        }
      ],
      "source": [
        "# obtain one batch of test images\n",
        "dataiter = iter(test_loader)\n",
        "images, labels = next(dataiter)\n",
        "\n",
        "# get sample outputs\n",
        "output = model(images)\n",
        "# convert output probabilities to predicted class\n",
        "_, preds = torch.max(output, 1)\n",
        "# prep images for display\n",
        "images = images.numpy()\n",
        "\n",
        "# plot the images in the batch, along with predicted and true labels\n",
        "fig, subs = plt.subplots(2, 10, figsize=(25, 4))\n",
        "for idx, sub in zip(range(20), subs.flatten()):\n",
        "    sub.imshow(np.squeeze(images[idx]), cmap='gray')\n",
        "    sub.set_title(f\"{str(preds[idx].item())} ({str(labels[idx].item())})\",\n",
        "                 color=(\"green\" if preds[idx]==labels[idx] else \"red\"))\n",
        "    sub.axis(\"off\")"
      ]
    },
    {
      "cell_type": "code",
      "execution_count": null,
      "metadata": {
        "id": "IzRw1GJ42SGe"
      },
      "outputs": [],
      "source": []
    }
  ],
  "metadata": {
    "anaconda-cloud": {},
    "kernelspec": {
      "display_name": "Python 3",
      "name": "python3"
    },
    "language_info": {
      "codemirror_mode": {
        "name": "ipython",
        "version": 3
      },
      "file_extension": ".py",
      "mimetype": "text/x-python",
      "name": "python",
      "nbconvert_exporter": "python",
      "pygments_lexer": "ipython3",
      "version": "3.7.6"
    },
    "colab": {
      "provenance": [],
      "gpuType": "T4"
    },
    "accelerator": "GPU"
  },
  "nbformat": 4,
  "nbformat_minor": 0
}